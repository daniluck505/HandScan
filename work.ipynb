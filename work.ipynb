{
 "cells": [
  {
   "cell_type": "code",
   "execution_count": null,
   "metadata": {},
   "outputs": [],
   "source": [
    "import torch\n",
    "import torch.nn as nn\n",
    "import torch.nn.functional as F\n",
    "import torchvision as tv\n",
    "\n",
    "from dataset import *\n",
    "from utils import *\n",
    "from model import *\n",
    "from trainer import *\n"
   ]
  },
  {
   "cell_type": "code",
   "execution_count": 2,
   "metadata": {},
   "outputs": [],
   "source": [
    "conf = load_options('config.yml')\n",
    "# conf"
   ]
  },
  {
   "cell_type": "markdown",
   "metadata": {},
   "source": [
    "# Dataset"
   ]
  },
  {
   "cell_type": "code",
   "execution_count": 3,
   "metadata": {},
   "outputs": [
    {
     "name": "stdout",
     "output_type": "stream",
     "text": [
      "Count data: 59031\n",
      "Count data: 1080\n"
     ]
    }
   ],
   "source": [
    "dconf = conf['dataset']\n",
    "set_chars = set(dconf['set_chars'])\n",
    "\n",
    "transforms = tv.transforms.Compose([\n",
    "    tv.transforms.ToPILImage(),\n",
    "    tv.transforms.ColorJitter(brightness=.5, hue=.5),\n",
    "    # tv.transforms.Grayscale(3),\n",
    "    tv.transforms.RandomRotation(10, fill=255),\n",
    "    tv.transforms.ToTensor(),\n",
    "    tv.transforms.Normalize(mean=[0.485, 0.456, 0.406], std=[0.229, 0.224, 0.225])\n",
    "])\n",
    "ds_train = DatasetText(dconf['train_path'], \n",
    "                       dconf['train_labels'], \n",
    "                       transforms, set_chars, \n",
    "                       dconf['max_len'])\n",
    "\n",
    "\n",
    "transforms = tv.transforms.Compose([\n",
    "    tv.transforms.ToTensor(),\n",
    "    tv.transforms.Normalize(mean=[0.485, 0.456, 0.406], std=[0.229, 0.224, 0.225])\n",
    "])\n",
    "ds_test = DatasetText(dconf['test_path'], \n",
    "                       dconf['test_labels'], \n",
    "                       transforms, set_chars, \n",
    "                       dconf['max_len'])\n",
    "\n",
    "\n",
    "train_loader = torch.utils.data.DataLoader(\n",
    "    ds_train, shuffle=dconf['shuffle'],\n",
    "    batch_size=dconf['batch_size'], num_workers=0, drop_last=True)\n",
    "\n",
    "test_loader = torch.utils.data.DataLoader(\n",
    "    ds_test, shuffle=False,\n",
    "    batch_size=dconf['batch_size'], num_workers=0, drop_last=False)"
   ]
  },
  {
   "cell_type": "code",
   "execution_count": 4,
   "metadata": {},
   "outputs": [],
   "source": [
    "# for batch in train_loader:\n",
    "#     print(batch['img'].shape)\n",
    "#     break\n",
    "\n",
    "# for ind in range(5):\n",
    "#     print(batch['label'][ind])\n",
    "#     img_transform = batch['img'][ind].permute(1, 2, 0).numpy()\n",
    "#     plt.figure(figsize=(2, 6))\n",
    "#     plt.imshow(img_transform)\n",
    "#     plt.show();\n",
    "\n",
    "# можно фильтровать данные, содержащие несколько слов"
   ]
  },
  {
   "cell_type": "markdown",
   "metadata": {},
   "source": [
    "# Train"
   ]
  },
  {
   "cell_type": "code",
   "execution_count": null,
   "metadata": {},
   "outputs": [
    {
     "name": "stdout",
     "output_type": "stream",
     "text": [
      "[' ', '!', '\"', '%', '(', ')', ',', '-', '.', '/', '0', '1', '2', '3', '4', '5', '6', '7', '8', '9', ':', ';', '?', 'а', 'б', 'в', 'г', 'д', 'е', 'ж', 'з', 'и', 'й', 'к', 'л', 'м', 'н', 'о', 'п', 'р', 'с', 'т', 'у', 'ф', 'х', 'ц', 'ч', 'ш', 'щ', 'ъ', 'ы', 'ь', 'э', 'ю', 'я', 'ё', '№']\n"
     ]
    }
   ],
   "source": [
    "chars = sorted(list(set_chars))\n",
    "print(chars)\n",
    "tp = TextProcessor(chars)\n",
    "vocab_size = tp.get_vocab_size()\n"
   ]
  },
  {
   "cell_type": "code",
   "execution_count": null,
   "metadata": {},
   "outputs": [
    {
     "name": "stderr",
     "output_type": "stream",
     "text": [
      "/home/daniluck505/Documents/Projects/OCR_task/.conda/lib/python3.8/site-packages/torchvision/models/_utils.py:223: UserWarning: Arguments other than a weight enum or `None` for 'weights' are deprecated since 0.13 and may be removed in the future. The current behavior is equivalent to passing `weights=ResNet18_Weights.IMAGENET1K_V1`. You can also use `weights=ResNet18_Weights.DEFAULT` to get the most up-to-date weights.\n",
      "  warnings.warn(msg)\n",
      "/home/daniluck505/Documents/Projects/OCR_task/utils.py:54: FutureWarning: You are using `torch.load` with `weights_only=False` (the current default value), which uses the default pickle module implicitly. It is possible to construct malicious pickle data which will execute arbitrary code during unpickling (See https://github.com/pytorch/pytorch/blob/main/SECURITY.md#untrusted-models for more details). In a future release, the default value for `weights_only` will be flipped to `True`. This limits the functions that could be executed during unpickling. Arbitrary objects will no longer be allowed to be loaded via this mode unless they are explicitly allowlisted by the user via `torch.serialization.add_safe_globals`. We recommend you start setting `weights_only=True` for any use case where you don't have full control of the loaded file. Please open an issue on GitHub for any issues related to this experimental feature.\n",
      "  model.load_state_dict(torch.load(weights))\n"
     ]
    }
   ],
   "source": [
    "model = CRNN_v4a(vocab_size)\n",
    "\n",
    "weights = 'Model_Recognize/CRNN_v4a_epoch_18_2024-11-25_17:33:46_weights.pt'\n",
    "model = load_model_weights(model, weights)\n",
    "\n",
    "model = model.to(dconf['device'])\n",
    "\n",
    "optimizer = torch.optim.SGD(model.parameters(), lr=0.01, momentum=0.9, nesterov=True)\n",
    "# optimizer = torch.optim.Adam(model.parameters(), lr=0.01, betas=(0.9, 0.999), weight_decay=1e-4)"
   ]
  },
  {
   "cell_type": "code",
   "execution_count": 9,
   "metadata": {},
   "outputs": [],
   "source": [
    "trainer = Trainer(model, optimizer, calculate_loss, tp, train_loader, test_loader, 5)"
   ]
  },
  {
   "cell_type": "code",
   "execution_count": 10,
   "metadata": {},
   "outputs": [],
   "source": [
    "if len(trainer.train_loss) == 0:\n",
    "    load_opt = load_results('Model_Recognize/CRNN_v4a_epoch_18_2024-11-25_17:33:46_results.pkl')\n",
    "    trainer.train_loss = load_opt['loss_history']\n",
    "    trainer.val_loss = load_opt['val_history']\n",
    "    trainer.epoch_sum = int(input())\n",
    "    conf = load_opt['options']\n"
   ]
  },
  {
   "cell_type": "code",
   "execution_count": 14,
   "metadata": {},
   "outputs": [],
   "source": [
    "trainer.optim = torch.optim.SGD(model.parameters(), lr=0.005, momentum=0.9, nesterov=True)\n",
    "# trainer.optim = torch.optim.Adam(model.parameters(), lr=0.005, betas=(0.9, 0.999))"
   ]
  },
  {
   "cell_type": "code",
   "execution_count": 15,
   "metadata": {},
   "outputs": [
    {
     "name": "stderr",
     "output_type": "stream",
     "text": [
      "Epoch: 23\tloss: 0.352: 100%|██████████| 686/686 [02:28<00:00,  4.61it/s]\n"
     ]
    },
    {
     "name": "stdout",
     "output_type": "stream",
     "text": [
      "Train loss: 0.360\n",
      "Val loss: 0.885\n",
      "\n",
      "\n"
     ]
    },
    {
     "name": "stderr",
     "output_type": "stream",
     "text": [
      "Epoch: 24\tloss: 0.260: 100%|██████████| 686/686 [02:27<00:00,  4.66it/s]\n"
     ]
    },
    {
     "name": "stdout",
     "output_type": "stream",
     "text": [
      "Train loss: 0.341\n",
      "Val loss: 0.899\n",
      "\n",
      "\n"
     ]
    }
   ],
   "source": [
    "tconf = {'epochs': 2,\n",
    "         'validate': True,\n",
    "         'device': 'cuda'}\n",
    "\n",
    "trainer.train_model(tconf)"
   ]
  },
  {
   "cell_type": "code",
   "execution_count": 16,
   "metadata": {},
   "outputs": [
    {
     "name": "stderr",
     "output_type": "stream",
     "text": [
      "No artists with labels found to put in legend.  Note that artists whose label start with an underscore are ignored when legend() is called with no argument.\n"
     ]
    },
    {
     "data": {
      "image/png": "[encoded data removed]",
      "text/plain": [
       "<Figure size 600x200 with 1 Axes>"
      ]
     },
     "metadata": {},
     "output_type": "display_data"
    }
   ],
   "source": [
    "trainer.plot_history((6, 2))"
   ]
  },
  {
   "cell_type": "markdown",
   "metadata": {},
   "source": [
    "# Validate"
   ]
  },
  {
   "cell_type": "code",
   "execution_count": null,
   "metadata": {},
   "outputs": [
    {
     "name": "stdout",
     "output_type": "stream",
     "text": [
      "Batch 0\n",
      "0: ибо - ибо\n",
      "1: осталось - осталось\n",
      "2: поле - поге\n",
      "3: 1 класса - 1 класса\n",
      "4: паспорт - паспорт\n",
      "5: назначение - назнячение\n",
      "6: отправление - отпровиение\n",
      "7: было только - бымо тольно\n",
      "8: 6.10.2017г. - 6.10.2017г.\n",
      "9: которые для - которые дия\n",
      "10: тогда - тогда\n",
      "11: отправления были - правления ъым\n",
      "12: критичны. - критисны.\n",
      "13: в ситуации, - в ситуаци,\n",
      "14: 30. 08. 2004 - 30.09.г20оч\n",
      "15: дав обратную - дав обратную\n",
      "16: связь - свзь\n",
      "17: а также - а также\n",
      "18: которые были - которые были\n",
      "19: оплачены за - опляачешы за\n",
      "20: способ - спосод\n",
      "21: 1 класса - 1 нласод\n",
      "22: приложена - приоженя\n",
      "23: заявлению - залвлению,\n",
      "24: 7.10.2017 г. - 7.10.207г.\n",
      "25: угольник - суольмик\n",
      "26: 10 июня 2016г. - 10 мюни 016г.\n",
      "27: 15.02.1987г. - 15.02.1287г.\n",
      "28: рождения - рошзения\n",
      "29: 17.10.2005 - 12.10 200\n",
      "30: паспорт серия - ноаемонт ания\n",
      "31: 18.03.2007 г - 18.03.07г,\n",
      "32: по адресу - но адресу\n",
      "33: деньги - деныи\n",
      "34: рублей - нблеей\n",
      "35: 18.04.1980 - 18.04.1980\n",
      "36: паспорт серия - пасоноы. сеция\n",
      "37: зарегистрирован - заречестирова\n",
      "38: денежную сумму - рамениупосуму\n",
      "39: вышеуказанную - вымеиучазанную\n",
      "40: рублей - рубниет\n",
      "41: 28.11.11 - 29.1.1\n",
      "42: 14мг - 114мг\n",
      "43: обеих - обеких\n",
      "44: ноября 2016 - нохбря 2016\n",
      "45: 25.06.2005. - 25.06.205\n",
      "46: 94 04 - 9404\n",
      "47: 547815 - 547315\n",
      "48: 16.08.2004 г. - 16.08.204.\n",
      "49: триста тридцать - триста рудцать\n",
      "50: 445 тысяч - 445 тьсди\n",
      "51: паспорт - паскорт\n",
      "52: номер - номер\n",
      "53: выдан - выдан\n",
      "54: отделением - опделением\n",
      "55: по району - по райоку\n",
      "56: рублей - рубмей\n",
      "57: проживаю - проживаю\n",
      "58: по адресу - но лдреу\n",
      "59: квартира - пваршира\n",
      "60: доверяю получать - доверо помрать\n",
      "61: отправления, - оиправления\n",
      "62: приходящие - прихжодящие\n",
      "63: на моё имя - ка мой имя\n",
      "64: любое - любое\n",
      "65: по адресу - но адру\n",
      "66: 127 572, - 127572,\n",
      "67: выдан - выдан\n",
      "68: проживающему - проживающему\n",
      "69: по адресу - ио адрсу\n",
      "70: новое - новое\n",
      "71: 25. 01. 2016. - 25.01.2015.\n",
      "72: 30.09.2013 - 30.09. 20тъ\n",
      "73: сентябрь, - сентябрь\n",
      "74: за автомобиль - ре овтомобиль\n",
      "75: 12.09.2013 - 2.09.2013\n",
      "76: 12.09.2013 - 12.09.2013\n",
      "77: 12.09.2013г - 11.09.2013.\n",
      "78: 12.09.2013 г. - 11.09.201г.\n",
      "79: 30.09.2013г - 808.09.2013\n",
      "80: 12.09.2013 - 12.0920р\n",
      "81: с составленным - сосовлным\n",
      "82: модели - мозели\n",
      "83: процесса - процесса\n",
      "84: непустое - некустое\n",
      "85: определены - опредемны\n",
      "Accuracy: 19\n",
      "WER: 0.73\n",
      "data mean WER: 0.73\n"
     ]
    }
   ],
   "source": [
    "loss = 0\n",
    "for i, batch in enumerate(test_loader):\n",
    "    print(f'Batch {i}')\n",
    "    loss += trainer.batch_validate(batch, dconf['device'], False)\n",
    "mean_loss = loss / (i+1)\n",
    "print(f'data mean WER: {mean_loss:.2f}')"
   ]
  },
  {
   "cell_type": "markdown",
   "metadata": {},
   "source": []
  },
  {
   "cell_type": "markdown",
   "metadata": {},
   "source": [
    "# Save"
   ]
  },
  {
   "cell_type": "code",
   "execution_count": 20,
   "metadata": {},
   "outputs": [],
   "source": [
    "save_results(conf, model, trainer.train_loss, trainer.val_loss, trainer.epoch_sum)"
   ]
  },
  {
   "cell_type": "code",
   "execution_count": null,
   "metadata": {},
   "outputs": [],
   "source": []
  }
 ],
 "metadata": {
  "kernelspec": {
   "display_name": "Python 3",
   "language": "python",
   "name": "python3"
  },
  "language_info": {
   "codemirror_mode": {
    "name": "ipython",
    "version": 3
   },
   "file_extension": ".py",
   "mimetype": "text/x-python",
   "name": "python",
   "nbconvert_exporter": "python",
   "pygments_lexer": "ipython3",
   "version": "3.8.20"
  }
 },
 "nbformat": 4,
 "nbformat_minor": 2
}
